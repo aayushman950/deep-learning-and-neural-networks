{
 "cells": [
  {
   "cell_type": "markdown",
   "id": "769383b9-19d1-4ca6-92ba-b6096d506cd0",
   "metadata": {},
   "source": [
    "Submitted by: Aayush Man Shakya  \n",
    "CE IV/I"
   ]
  },
  {
   "cell_type": "markdown",
   "id": "9b448ff5-34d1-4500-bebb-1174374d54a6",
   "metadata": {},
   "source": [
    "## Training an XOR gate neural network"
   ]
  },
  {
   "cell_type": "code",
   "execution_count": 81,
   "id": "50b1b80c-b6db-4348-a705-98c6377c9fa6",
   "metadata": {},
   "outputs": [],
   "source": [
    "import numpy as np\n",
    "import matplotlib.pyplot as plt\n",
    "%matplotlib inline"
   ]
  },
  {
   "cell_type": "code",
   "execution_count": 82,
   "id": "d05c275b-9e64-4403-9cb2-a87f40cef409",
   "metadata": {},
   "outputs": [],
   "source": [
    "# Training Data (XOR gate inputs and outputs)\n",
    "\n",
    "x = np.array([ [0, 1], [1, 0], [1, 1],[0, 0] ])\n",
    "y = np.array([ [1], [1], [0], [0]])"
   ]
  },
  {
   "cell_type": "code",
   "execution_count": 83,
   "id": "08920dc0-5d96-4204-80cf-12d86ac9b5f1",
   "metadata": {},
   "outputs": [],
   "source": [
    "# 2 input nodes, 5 hidden layer nodes, 1 output node\n",
    "\n",
    "num_input = 2\n",
    "num_hidden = 5\n",
    "num_output = 1"
   ]
  },
  {
   "cell_type": "code",
   "execution_count": 84,
   "id": "5564787c-7aa8-4836-b608-6dcbdb219192",
   "metadata": {},
   "outputs": [],
   "source": [
    "# Initialize the weights and bias randomly\n",
    "\n",
    "Wxh = np.random.randn(num_input,num_hidden)\n",
    "bh = np.zeros((1,num_hidden))"
   ]
  },
  {
   "cell_type": "code",
   "execution_count": 85,
   "id": "68479874-484e-4d87-9c77-dda3dd3461cf",
   "metadata": {},
   "outputs": [],
   "source": [
    "# initialize the hidden to output layer weights\n",
    "\n",
    "Why = np.random.randn(num_hidden, num_output)\n",
    "by = np.zeros((1,num_output))"
   ]
  },
  {
   "cell_type": "code",
   "execution_count": 86,
   "id": "1d3fb5b1-df31-45b8-908e-fbdf941a8da1",
   "metadata": {},
   "outputs": [],
   "source": [
    "# Define the sigmoid activation function\n",
    "\n",
    "def sigmoid(z):\n",
    "    return 1 / (1+np.exp(-z))"
   ]
  },
  {
   "cell_type": "code",
   "execution_count": 87,
   "id": "d231d1b7-fcde-4f00-8048-f6ff04130c0b",
   "metadata": {},
   "outputs": [],
   "source": [
    "# Define the derivative of the sigmoid function\n",
    "\n",
    "def sigmoid_derivative(z):\n",
    "    return np.exp(-z)/((1+np.exp(-z))**2)"
   ]
  },
  {
   "cell_type": "code",
   "execution_count": 88,
   "id": "79e11ca5-29ac-4994-8a81-35db4e608b33",
   "metadata": {},
   "outputs": [],
   "source": [
    "def forward_prop(x,Wxh,Why):\n",
    "    z1 = np.dot(x,Wxh) + bh\n",
    "    a1 = sigmoid(z1)\n",
    "    z2 = np.dot(a1,Why) + by\n",
    "    y_hat = sigmoid(z2)\n",
    "    \n",
    "    return z1,a1,z2,y_hat"
   ]
  },
  {
   "cell_type": "code",
   "execution_count": 89,
   "id": "2c342232-8bf1-4299-aa2b-0d4a1c59ccb1",
   "metadata": {},
   "outputs": [],
   "source": [
    " def backword_prop(y_hat, z1, a1, z2):\n",
    "    delta2 = np.multiply(-(y-y_hat),sigmoid_derivative(z2))\n",
    "    dJ_dWhy = np.dot(a1.T, delta2)\n",
    "    delta1 = np.dot(delta2,Why.T)*sigmoid_derivative(z1)\n",
    "    dJ_dWxh = np.dot(x.T, delta1)\n",
    "\n",
    "    return dJ_dWxh, dJ_dWhy"
   ]
  },
  {
   "cell_type": "code",
   "execution_count": 90,
   "id": "29774dda-9e11-4d52-adef-a53ae890e754",
   "metadata": {},
   "outputs": [],
   "source": [
    "def cost_function(y, y_hat):\n",
    "    J = 0.5*sum((y-y_hat)**2)\n",
    "    \n",
    "    return J"
   ]
  },
  {
   "cell_type": "code",
   "execution_count": 91,
   "id": "d40e119c-43f4-4968-a0b0-c36436b7c106",
   "metadata": {},
   "outputs": [],
   "source": [
    "# Set the learning rate and the number of training iterations\n",
    "\n",
    "alpha = 0.01\n",
    "num_iterations = 5000"
   ]
  },
  {
   "cell_type": "code",
   "execution_count": 92,
   "id": "13e87e2e-0c5a-4b8a-8312-6525c9d3d030",
   "metadata": {},
   "outputs": [],
   "source": [
    "# train 5000 iterations\n",
    "\n",
    "cost =[]\n",
    "for i in range(num_iterations):\n",
    "   z1,a1,z2,y_hat = forward_prop(x,Wxh,Why)    \n",
    "   dJ_dWxh, dJ_dWhy = backword_prop(y_hat, z1, a1, z2)\n",
    "       \n",
    "   #update weights\n",
    "   Wxh = Wxh -alpha * dJ_dWxh\n",
    "   Why = Why -alpha * dJ_dWhy\n",
    "   \n",
    "   #compute cost\n",
    "   c = cost_function(y, y_hat)\n",
    "   \n",
    "   cost.append(c)"
   ]
  },
  {
   "cell_type": "code",
   "execution_count": 93,
   "id": "040b6ce6-48e4-46c3-838e-4c7abf64ad02",
   "metadata": {},
   "outputs": [
    {
     "data": {
      "text/plain": [
       "Text(0, 0.5, 'Cost')"
      ]
     },
     "execution_count": 93,
     "metadata": {},
     "output_type": "execute_result"
    },
    {
     "data": {
      "image/png": "[encoded data removed]",
      "text/plain": [
       "<Figure size 640x480 with 1 Axes>"
      ]
     },
     "metadata": {},
     "output_type": "display_data"
    }
   ],
   "source": [
    "plt.grid()\n",
    "plt.plot(range(num_iterations),cost)\n",
    "plt.title('Cost Function')\n",
    "plt.xlabel('Training Iterations')\n",
    "plt.ylabel('Cost')"
   ]
  },
  {
   "cell_type": "code",
   "execution_count": 94,
   "id": "23b0e80f-712b-4b6a-a772-43132fdc1c11",
   "metadata": {},
   "outputs": [
    {
     "name": "stdout",
     "output_type": "stream",
     "text": [
      "Predictions (y_hat):\n",
      "[[0.57305878]\n",
      " [0.45459169]\n",
      " [0.46028246]\n",
      " [0.49765638]]\n",
      "Rounded predictions (0 or 1):\n",
      "[[1.]\n",
      " [0.]\n",
      " [0.]\n",
      " [0.]]\n",
      "Actual outputs (y):\n",
      "[[1]\n",
      " [1]\n",
      " [0]\n",
      " [0]]\n"
     ]
    }
   ],
   "source": [
    "# Test the trained network\n",
    "z1, a1, z2, y_hat = forward_prop(x, Wxh, Why)\n",
    "\n",
    "print(\"Predictions (y_hat):\")\n",
    "print(y_hat)\n",
    "\n",
    "print(\"Rounded predictions (0 or 1):\")\n",
    "print(np.round(y_hat))\n",
    "\n",
    "print(\"Actual outputs (y):\")\n",
    "print(y)"
   ]
  },
  {
   "cell_type": "code",
   "execution_count": 95,
   "id": "4d7412b1-5329-40b2-9764-a52998c75936",
   "metadata": {},
   "outputs": [],
   "source": [
    "# with 20000 iterations\n",
    "\n",
    "num_iterations = 20000\n",
    "\n",
    "cost =[]\n",
    "for i in range(num_iterations):\n",
    "   z1,a1,z2,y_hat = forward_prop(x,Wxh,Why)    \n",
    "   dJ_dWxh, dJ_dWhy = backword_prop(y_hat, z1, a1, z2)\n",
    "       \n",
    "   #update weights\n",
    "   Wxh = Wxh -alpha * dJ_dWxh\n",
    "   Why = Why -alpha * dJ_dWhy\n",
    "   \n",
    "   #compute cost\n",
    "   c = cost_function(y, y_hat)\n",
    "   \n",
    "   cost.append(c)"
   ]
  },
  {
   "cell_type": "code",
   "execution_count": 96,
   "id": "e1e384c7-4181-48bf-9171-6cf31f3ab6d3",
   "metadata": {},
   "outputs": [
    {
     "data": {
      "text/plain": [
       "Text(0, 0.5, 'Cost')"
      ]
     },
     "execution_count": 96,
     "metadata": {},
     "output_type": "execute_result"
    },
    {
     "data": {
      "image/png": "[encoded data removed]",
      "text/plain": [
       "<Figure size 640x480 with 1 Axes>"
      ]
     },
     "metadata": {},
     "output_type": "display_data"
    }
   ],
   "source": [
    "plt.grid()\n",
    "plt.plot(range(num_iterations),cost)\n",
    "plt.title('Cost Function')\n",
    "plt.xlabel('Training Iterations')\n",
    "plt.ylabel('Cost')"
   ]
  },
  {
   "cell_type": "code",
   "execution_count": 97,
   "id": "11d86d9d-8789-41ea-abe7-0d28736f4948",
   "metadata": {},
   "outputs": [
    {
     "name": "stdout",
     "output_type": "stream",
     "text": [
      "Predictions (y_hat):\n",
      "[[0.790155  ]\n",
      " [0.78638751]\n",
      " [0.21054534]\n",
      " [0.2088454 ]]\n",
      "Rounded predictions (0 or 1):\n",
      "[[1.]\n",
      " [1.]\n",
      " [0.]\n",
      " [0.]]\n",
      "Actual outputs (y):\n",
      "[[1]\n",
      " [1]\n",
      " [0]\n",
      " [0]]\n"
     ]
    }
   ],
   "source": [
    "# Test the trained network\n",
    "z1, a1, z2, y_hat = forward_prop(x, Wxh, Why)\n",
    "\n",
    "print(\"Predictions (y_hat):\")\n",
    "print(y_hat)\n",
    "\n",
    "print(\"Rounded predictions (0 or 1):\")\n",
    "print(np.round(y_hat))\n",
    "\n",
    "print(\"Actual outputs (y):\")\n",
    "print(y)"
   ]
  },
  {
   "cell_type": "markdown",
   "id": "2c545612-2f00-45de-87ff-8b35971e2dc4",
   "metadata": {},
   "source": [
    "# QUESTIONS\n",
    "\n",
    "---\n",
    "\n",
    "1. **How does deep learning differ from machine learning?**\n",
    "   \n",
    "    Handcrafting the right set of features to predict a certain outcome(Feature Engineering) plays a crucial role in machine learning, but finding and engineering the right set of features is not an easy task.\n",
    " \n",
    "    With deep learning, we don't have to handcraft such features. Since deep ANNs employ several layers, it learns the complex intrinsic features and multi-level abstract representation of data by itself.\n",
    "\n",
    "---\n",
    "\n",
    "2. **What does the word deep mean in deep learning?**\n",
    "\n",
    "   The word deep in deep learning refers to the presence of multiple hidden layers between the input and output layer.\n",
    "\n",
    "---\n",
    "\n",
    "3. **Why do we use the activation function?**\n",
    "\n",
    "   We use activation functions to introduce non-linearity in the network. Without them, the neural network would behave like a simple linear model, no matter how many layers it has. Non-linearity helps the network learn complex patterns.\n",
    "\n",
    "---\n",
    "\n",
    "4. **Explain the dying ReLU problem.**\n",
    "\n",
    "   The dying ReLU problem occurs when neurons in a network using the ReLU activation function stop activating and always output zero. This can happen when weights become such that the neuron’s output is always negative, and since ReLU outputs zero for negative inputs, the neuron effectively \"dies\" and stops learning.\n",
    "\n",
    "---\n",
    "\n",
    "5. **Define forward propagation.**\n",
    "\n",
    "   The process of going from input layer to output layer is known as forward propagation. In order to predict the output value, inputs are propagated from the input layer to the output layer. During this propagation, they are multiplied by their respective weights on each layer and an activation function is applied on top of them.\n",
    "\n",
    "---\n",
    "\n",
    "6. **What is back propagation?**\n",
    "\n",
    "   The process of going backwards in the network from the output layer to the input layer and updating the weights of the network using gradient descent to minimize the loss is called backpropagation. \n",
    "\n",
    "---\n",
    "\n",
    "7. **Explain gradient checking.**\n",
    "\n",
    "   Gradient checking is a technique used to verify if out backpropagation is implemented correctly. It compares the gradients calculated by our code(analytical gradients) with numerical gradients (calculated using an approximation formula).\n",
    "\n",
    "---\n"
   ]
  }
 ],
 "metadata": {
  "kernelspec": {
   "display_name": "Python 3 (ipykernel)",
   "language": "python",
   "name": "python3"
  },
  "language_info": {
   "codemirror_mode": {
    "name": "ipython",
    "version": 3
   },
   "file_extension": ".py",
   "mimetype": "text/x-python",
   "name": "python",
   "nbconvert_exporter": "python",
   "pygments_lexer": "ipython3",
   "version": "3.11.9"
  }
 },
 "nbformat": 4,
 "nbformat_minor": 5
}
