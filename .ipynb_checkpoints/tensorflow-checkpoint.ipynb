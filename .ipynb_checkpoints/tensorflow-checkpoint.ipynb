{
 "cells": [
  {
   "cell_type": "code",
   "execution_count": 12,
   "id": "cc5013a9-c1bc-4406-8d53-09c6557d12a2",
   "metadata": {},
   "outputs": [
    {
     "name": "stdout",
     "output_type": "stream",
     "text": [
      "TensorFlow version: 2.19.0\n"
     ]
    }
   ],
   "source": [
    "import tensorflow as tf\n",
    "print(\"TensorFlow version:\", tf.__version__)"
   ]
  },
  {
   "cell_type": "code",
   "execution_count": 4,
   "id": "d095e2fa-ae67-4b01-945b-2d1e61a132e1",
   "metadata": {},
   "outputs": [
    {
     "name": "stdout",
     "output_type": "stream",
     "text": [
      "Hello TensorFlow!\n"
     ]
    }
   ],
   "source": [
    "import tensorflow as tf\n",
    "\n",
    "hello = tf.constant(\"Hello TensorFlow!\")\n",
    "print(hello.numpy().decode(\"utf-8\"))"
   ]
  },
  {
   "cell_type": "code",
   "execution_count": 20,
   "id": "6d3ba31e-e213-4acf-87e0-42c666bf408b",
   "metadata": {},
   "outputs": [
    {
     "name": "stdout",
     "output_type": "stream",
     "text": [
      "5\n",
      "5\n"
     ]
    }
   ],
   "source": [
    "import tensorflow as tf\n",
    "\n",
    "x = tf.constant(2)\n",
    "y = tf.constant(3)\n",
    "z = tf.add(x, y, name='Add')\n",
    "\n",
    "print(z.numpy()) # Convert tensor to a Python number\n",
    "print((x+y).numpy())"
   ]
  },
  {
   "cell_type": "code",
   "execution_count": 22,
   "id": "fde12492-dfe3-449c-b85e-69a9e3c41dbe",
   "metadata": {},
   "outputs": [
    {
     "name": "stdout",
     "output_type": "stream",
     "text": [
      "tf.Tensor(12, shape=(), dtype=int32)\n",
      "12\n"
     ]
    }
   ],
   "source": [
    "print(tf.multiply(3,4))\n",
    "print(tf.multiply(3,4).numpy())"
   ]
  },
  {
   "cell_type": "code",
   "execution_count": 16,
   "id": "f0178f1f-62c5-4951-96ce-f47743a82bb9",
   "metadata": {},
   "outputs": [
    {
     "name": "stdout",
     "output_type": "stream",
     "text": [
      "Result: 8\n"
     ]
    }
   ],
   "source": [
    "@tf.function\n",
    "def add_numbers(a, b):\n",
    "    return tf.add(a, b)\n",
    "\n",
    "result = add_numbers(5, 3)\n",
    "print(\"Result:\", result.numpy())"
   ]
  }
 ],
 "metadata": {
  "kernelspec": {
   "display_name": "Python 3 (ipykernel)",
   "language": "python",
   "name": "python3"
  },
  "language_info": {
   "codemirror_mode": {
    "name": "ipython",
    "version": 3
   },
   "file_extension": ".py",
   "mimetype": "text/x-python",
   "name": "python",
   "nbconvert_exporter": "python",
   "pygments_lexer": "ipython3",
   "version": "3.11.9"
  }
 },
 "nbformat": 4,
 "nbformat_minor": 5
}
