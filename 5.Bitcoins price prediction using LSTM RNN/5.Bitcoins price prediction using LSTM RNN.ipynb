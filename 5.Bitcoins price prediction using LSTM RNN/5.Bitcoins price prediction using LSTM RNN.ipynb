{
 "cells": [
  {
   "cell_type": "markdown",
   "id": "5f111644-56f2-4c6e-88a1-84f3b0ea2f7a",
   "metadata": {},
   "source": [
    "***Importing Libraries***"
   ]
  },
  {
   "cell_type": "code",
   "execution_count": 17,
   "id": "37ac0c9a-bbde-4d0d-92c7-14d0817f6d46",
   "metadata": {
    "tags": []
   },
   "outputs": [],
   "source": [
    "import warnings\n",
    "import logging\n",
    "warnings.filterwarnings('ignore')\n",
    "\n",
    "import numpy as np\n",
    "import pandas as pd\n",
    "from sklearn.preprocessing import StandardScaler\n",
    "\n",
    "import matplotlib.pyplot as plt\n",
    "%matplotlib inline \n",
    "\n",
    "import tensorflow as tf\n",
    "tf.get_logger().setLevel(logging.ERROR)\n"
   ]
  },
  {
   "cell_type": "markdown",
   "id": "1dc20d4a-1b51-478c-92f6-302b3288fc77",
   "metadata": {},
   "source": [
    "***Preparing data***"
   ]
  },
  {
   "cell_type": "code",
   "execution_count": 18,
   "id": "1f8d6d41-d52f-4b03-8d83-030e02f765e1",
   "metadata": {
    "tags": []
   },
   "outputs": [],
   "source": [
    "df = pd.read_csv('btc.csv')"
   ]
  },
  {
   "cell_type": "code",
   "execution_count": 19,
   "id": "5c3fcf77-abbe-46d4-be1d-18a70fe354f1",
   "metadata": {
    "tags": []
   },
   "outputs": [
    {
     "data": {
      "text/html": [
       "<div>\n",
       "<style scoped>\n",
       "    .dataframe tbody tr th:only-of-type {\n",
       "        vertical-align: middle;\n",
       "    }\n",
       "\n",
       "    .dataframe tbody tr th {\n",
       "        vertical-align: top;\n",
       "    }\n",
       "\n",
       "    .dataframe thead th {\n",
       "        text-align: right;\n",
       "    }\n",
       "</style>\n",
       "<table border=\"1\" class=\"dataframe\">\n",
       "  <thead>\n",
       "    <tr style=\"text-align: right;\">\n",
       "      <th></th>\n",
       "      <th>Date</th>\n",
       "      <th>Symbol</th>\n",
       "      <th>Open</th>\n",
       "      <th>High</th>\n",
       "      <th>Low</th>\n",
       "      <th>Close</th>\n",
       "      <th>Volume From</th>\n",
       "      <th>Volume To</th>\n",
       "    </tr>\n",
       "  </thead>\n",
       "  <tbody>\n",
       "    <tr>\n",
       "      <th>0</th>\n",
       "      <td>5/26/2018</td>\n",
       "      <td>BTCUSD</td>\n",
       "      <td>7459.11</td>\n",
       "      <td>7640.46</td>\n",
       "      <td>7380.00</td>\n",
       "      <td>7520.00</td>\n",
       "      <td>2722.80</td>\n",
       "      <td>2.042265e+07</td>\n",
       "    </tr>\n",
       "    <tr>\n",
       "      <th>1</th>\n",
       "      <td>5/25/2018</td>\n",
       "      <td>BTCUSD</td>\n",
       "      <td>7584.15</td>\n",
       "      <td>7661.85</td>\n",
       "      <td>7326.94</td>\n",
       "      <td>7459.11</td>\n",
       "      <td>8491.93</td>\n",
       "      <td>6.342069e+07</td>\n",
       "    </tr>\n",
       "    <tr>\n",
       "      <th>2</th>\n",
       "      <td>5/24/2018</td>\n",
       "      <td>BTCUSD</td>\n",
       "      <td>7505.00</td>\n",
       "      <td>7734.99</td>\n",
       "      <td>7269.00</td>\n",
       "      <td>7584.15</td>\n",
       "      <td>11033.72</td>\n",
       "      <td>8.293137e+07</td>\n",
       "    </tr>\n",
       "    <tr>\n",
       "      <th>3</th>\n",
       "      <td>5/23/2018</td>\n",
       "      <td>BTCUSD</td>\n",
       "      <td>7987.70</td>\n",
       "      <td>8030.00</td>\n",
       "      <td>7433.19</td>\n",
       "      <td>7505.00</td>\n",
       "      <td>14905.99</td>\n",
       "      <td>1.148104e+08</td>\n",
       "    </tr>\n",
       "    <tr>\n",
       "      <th>4</th>\n",
       "      <td>5/22/2018</td>\n",
       "      <td>BTCUSD</td>\n",
       "      <td>8393.44</td>\n",
       "      <td>8400.00</td>\n",
       "      <td>7950.00</td>\n",
       "      <td>7987.70</td>\n",
       "      <td>6589.43</td>\n",
       "      <td>5.389753e+07</td>\n",
       "    </tr>\n",
       "  </tbody>\n",
       "</table>\n",
       "</div>"
      ],
      "text/plain": [
       "        Date  Symbol     Open     High      Low    Close  Volume From  \\\n",
       "0  5/26/2018  BTCUSD  7459.11  7640.46  7380.00  7520.00      2722.80   \n",
       "1  5/25/2018  BTCUSD  7584.15  7661.85  7326.94  7459.11      8491.93   \n",
       "2  5/24/2018  BTCUSD  7505.00  7734.99  7269.00  7584.15     11033.72   \n",
       "3  5/23/2018  BTCUSD  7987.70  8030.00  7433.19  7505.00     14905.99   \n",
       "4  5/22/2018  BTCUSD  8393.44  8400.00  7950.00  7987.70      6589.43   \n",
       "\n",
       "      Volume To  \n",
       "0  2.042265e+07  \n",
       "1  6.342069e+07  \n",
       "2  8.293137e+07  \n",
       "3  1.148104e+08  \n",
       "4  5.389753e+07  "
      ]
     },
     "execution_count": 19,
     "metadata": {},
     "output_type": "execute_result"
    }
   ],
   "source": [
    "df.head()"
   ]
  },
  {
   "cell_type": "code",
   "execution_count": 20,
   "id": "13d7afd5-5f6c-4b85-8ba6-62e972bad1b0",
   "metadata": {
    "tags": []
   },
   "outputs": [],
   "source": [
    "data = df['Close'].values"
   ]
  },
  {
   "cell_type": "code",
   "execution_count": 21,
   "id": "b4a1c2f0-0757-4313-914d-fba8ebd1c024",
   "metadata": {
    "tags": []
   },
   "outputs": [],
   "source": [
    "scaler = StandardScaler()\n",
    "data = scaler.fit_transform(data.reshape(-1, 1))"
   ]
  },
  {
   "cell_type": "code",
   "execution_count": 22,
   "id": "15954df6-b303-4b68-a5b9-d876b2e6d47d",
   "metadata": {
    "tags": []
   },
   "outputs": [
    {
     "data": {
      "image/png": "[encoded data removed]",
      "text/plain": [
       "<Figure size 640x480 with 1 Axes>"
      ]
     },
     "metadata": {},
     "output_type": "display_data"
    }
   ],
   "source": [
    "plt.plot(data)\n",
    "plt.xlabel('Days')\n",
    "plt.ylabel('Price')\n",
    "plt.grid()"
   ]
  },
  {
   "cell_type": "code",
   "execution_count": 23,
   "id": "eddced5e-b85d-41b7-8dd8-f45d43d2ac0d",
   "metadata": {
    "tags": []
   },
   "outputs": [],
   "source": [
    "def get_data(data, window_size):\n",
    "    X = []\n",
    "    y = []\n",
    "    \n",
    "    i = 0\n",
    "    \n",
    "    while (i + window_size) <= len(data) - 1:\n",
    "        X.append(data[i:i+window_size])\n",
    "        y.append(data[i+window_size])\n",
    "        \n",
    "        i += 1\n",
    "    assert len(X) ==  len(y)\n",
    "    return X, y"
   ]
  },
  {
   "cell_type": "code",
   "execution_count": 24,
   "id": "cc30d0af-f86f-48b2-82fc-580438e28a16",
   "metadata": {
    "tags": []
   },
   "outputs": [],
   "source": [
    "X, y = get_data(data, window_size = 7)"
   ]
  },
  {
   "cell_type": "code",
   "execution_count": 25,
   "id": "e5a34d42-facb-42df-ac5c-9270b0ea0bcd",
   "metadata": {
    "tags": []
   },
   "outputs": [],
   "source": [
    "#train set\n",
    "X_train  = np.array(X[:1000])\n",
    "y_train = np.array(y[:1000])\n",
    "\n",
    "#test set\n",
    "X_test = np.array(X[1000:])\n",
    "y_test = np.array(y[1000:])"
   ]
  },
  {
   "cell_type": "code",
   "execution_count": 26,
   "id": "516dd0a3-2d4f-41a3-a484-905cf9767d57",
   "metadata": {
    "tags": []
   },
   "outputs": [
    {
     "data": {
      "text/plain": [
       "(1000, 7, 1)"
      ]
     },
     "execution_count": 26,
     "metadata": {},
     "output_type": "execute_result"
    }
   ],
   "source": [
    "X_train.shape"
   ]
  },
  {
   "cell_type": "markdown",
   "id": "a5a831e2-5a69-4660-8083-67b0db7332cf",
   "metadata": {},
   "source": [
    "***Defining network parameters***"
   ]
  },
  {
   "cell_type": "code",
   "execution_count": 27,
   "id": "7e13e6f0-1a0f-4182-830c-f402eb7f6530",
   "metadata": {
    "tags": []
   },
   "outputs": [],
   "source": [
    "batch_size = 7\n",
    "window_size = 7 \n",
    "hidden_layer = 256 \n",
    "learning_rate = 0.001 "
   ]
  },
  {
   "cell_type": "markdown",
   "id": "08fb925f-049a-4b11-8271-7dfe962446c6",
   "metadata": {},
   "source": [
    "***Defining placeholders***"
   ]
  },
  {
   "cell_type": "code",
   "execution_count": 28,
   "id": "76a690aa-c0a9-46d8-bdfe-d1cc5cdc8d64",
   "metadata": {
    "tags": []
   },
   "outputs": [],
   "source": [
    "input = tf.placeholder(tf.float32, [batch_size, window_size, 1])\n",
    "target = tf.placeholder(tf.float32, [batch_size, 1])"
   ]
  },
  {
   "cell_type": "markdown",
   "id": "a1c711bd-6b07-4950-bd66-af5e856e4aec",
   "metadata": {},
   "source": [
    "***Defining weights***"
   ]
  },
  {
   "cell_type": "markdown",
   "id": "c23e0aef-111d-49bd-966c-78336698880d",
   "metadata": {},
   "source": [
    "Weights of input gate"
   ]
  },
  {
   "cell_type": "code",
   "execution_count": 29,
   "id": "0d5d6d8e-4735-40d3-a816-66281358e17a",
   "metadata": {
    "tags": []
   },
   "outputs": [],
   "source": [
    "U_i = tf.Variable(tf.truncated_normal([1, hidden_layer], stddev=0.05))\n",
    "W_i = tf.Variable(tf.truncated_normal([hidden_layer, hidden_layer], stddev=0.05))\n",
    "b_i = tf.Variable(tf.zeros([hidden_layer]))"
   ]
  },
  {
   "cell_type": "markdown",
   "id": "f9675ff0-58ce-419b-9633-b92b5cb314c8",
   "metadata": {},
   "source": [
    "Weights of forget gate"
   ]
  },
  {
   "cell_type": "code",
   "execution_count": 30,
   "id": "a4e93953-d334-4047-8d53-91768d6dfcd7",
   "metadata": {
    "tags": []
   },
   "outputs": [],
   "source": [
    "U_f = tf.Variable(tf.truncated_normal([1, hidden_layer], stddev=0.05))\n",
    "W_f = tf.Variable(tf.truncated_normal([hidden_layer, hidden_layer], stddev=0.05))\n",
    "b_f = tf.Variable(tf.zeros([hidden_layer]))"
   ]
  },
  {
   "cell_type": "markdown",
   "id": "824db6e9-1b06-4e49-89dc-60d8f496f1e0",
   "metadata": {},
   "source": [
    "Weights of output gate"
   ]
  },
  {
   "cell_type": "code",
   "execution_count": 31,
   "id": "397740a6-902e-485f-b66c-f6d277af392f",
   "metadata": {
    "tags": []
   },
   "outputs": [],
   "source": [
    "U_o = tf.Variable(tf.truncated_normal([1, hidden_layer], stddev=0.05))\n",
    "W_o = tf.Variable(tf.truncated_normal([hidden_layer, hidden_layer], stddev=0.05))\n",
    "b_o = tf.Variable(tf.zeros([hidden_layer]))"
   ]
  },
  {
   "cell_type": "markdown",
   "id": "3e28d51e-c37a-49cf-a641-2b219b0b9cf8",
   "metadata": {},
   "source": [
    "Weights of candidate gate"
   ]
  },
  {
   "cell_type": "code",
   "execution_count": 32,
   "id": "5b20ed73-4853-47d7-ae62-9f71fd1db54b",
   "metadata": {
    "tags": []
   },
   "outputs": [],
   "source": [
    "U_g = tf.Variable(tf.truncated_normal([1, hidden_layer], stddev=0.05))\n",
    "W_g = tf.Variable(tf.truncated_normal([hidden_layer, hidden_layer], stddev=0.05))\n",
    "b_g = tf.Variable(tf.zeros([hidden_layer]))"
   ]
  },
  {
   "cell_type": "markdown",
   "id": "eab704f5-e037-4b50-bd45-14be855d5f2a",
   "metadata": {},
   "source": [
    "Output layer weight"
   ]
  },
  {
   "cell_type": "code",
   "execution_count": 33,
   "id": "e745cb46-1107-4a90-bc7a-5ad2342006b8",
   "metadata": {
    "tags": []
   },
   "outputs": [],
   "source": [
    "V = tf.Variable(tf.truncated_normal([hidden_layer, 1], stddev=0.05))\n",
    "b_v = tf.Variable(tf.zeros([1]))"
   ]
  },
  {
   "cell_type": "markdown",
   "id": "f362bff7-8ce8-4a82-810b-7a6dc0c70750",
   "metadata": {},
   "source": [
    "***Defining LSTM Cell***"
   ]
  },
  {
   "cell_type": "code",
   "execution_count": 34,
   "id": "d7f2fd72-bcdb-4a00-a30b-ca4ee53a1f34",
   "metadata": {
    "tags": []
   },
   "outputs": [],
   "source": [
    "def LSTM_cell(input, prev_hidden_state, prev_cell_state):\n",
    "\n",
    "    it = tf.sigmoid(tf.matmul(input, U_i) + tf.matmul(prev_hidden_state, W_i) + b_i)\n",
    "\n",
    "    ft = tf.sigmoid(tf.matmul(input, U_f) + tf.matmul(prev_hidden_state, W_f) + b_f)\n",
    "\n",
    "    ot = tf.sigmoid(tf.matmul(input, U_o) + tf.matmul(prev_hidden_state, W_o) + b_o)\n",
    "\n",
    "    gt = tf.tanh(tf.matmul(input, U_g) + tf.matmul(prev_hidden_state, W_g) + b_g)\n",
    "\n",
    "    ct = (prev_cell_state * ft) + (it * gt)\n",
    "\n",
    "    ht = ot * tf.tanh(ct)\n",
    "\n",
    "    return ct, ht"
   ]
  },
  {
   "cell_type": "markdown",
   "id": "268dbee8-d05a-4495-ad7d-c62954369666",
   "metadata": {},
   "source": [
    "***Defining forward propagation***"
   ]
  },
  {
   "cell_type": "code",
   "execution_count": 35,
   "id": "c00ae397-7882-4224-9ead-b750d8473d54",
   "metadata": {
    "tags": []
   },
   "outputs": [],
   "source": [
    "#initialize the list called y_hat for storing the predicted output\n",
    "y_hat = []\n",
    "\n",
    "#for each batch we compute the output and store it in the y_hat list\n",
    "for i in range(batch_size): \n",
    "  \n",
    "    #initialize hidden state and cell state for each batch\n",
    "    hidden_state = np.zeros([1, hidden_layer], dtype=np.float32) \n",
    "    cell_state = np.zeros([1, hidden_layer], dtype=np.float32)\n",
    "    \n",
    "    \n",
    "    #compute the hidden state and cell state of the LSTM cell for each time step\n",
    "    for t in range(window_size):\n",
    "        cell_state, hidden_state = LSTM_cell(tf.reshape(input[i][t], (-1, 1)), hidden_state, cell_state)\n",
    "        \n",
    "    #compute y_hat and append it to y_hat list\n",
    "    y_hat.append(tf.matmul(hidden_state, V) + b_v)"
   ]
  },
  {
   "cell_type": "markdown",
   "id": "dbd89e74-36bf-4f89-848d-17392d8ae008",
   "metadata": {},
   "source": [
    "***Defining backpropagation***"
   ]
  },
  {
   "cell_type": "code",
   "execution_count": 36,
   "id": "3eab8615-5407-4993-bc79-1342ec46a73c",
   "metadata": {
    "tags": []
   },
   "outputs": [],
   "source": [
    "losses = []\n",
    "\n",
    "for i in range(len(y_hat)):\n",
    "    losses.append(tf.losses.mean_squared_error(tf.reshape(target[i], (-1, 1)), y_hat[i]))\n",
    "    \n",
    "loss = tf.reduce_mean(losses)"
   ]
  },
  {
   "cell_type": "code",
   "execution_count": 37,
   "id": "bb49d2ac-13e9-4725-bcb0-5e1ebeb9d7c6",
   "metadata": {
    "tags": []
   },
   "outputs": [],
   "source": [
    "gradients = tf.gradients(loss, tf.trainable_variables())\n",
    "clipped, _ = tf.clip_by_global_norm(gradients, 4.0)"
   ]
  },
  {
   "cell_type": "code",
   "execution_count": 38,
   "id": "3bde4741-7e96-4e40-a3e2-07422ab20852",
   "metadata": {
    "tags": []
   },
   "outputs": [],
   "source": [
    "optimizer = tf.train.AdamOptimizer(learning_rate).apply_gradients(zip(gradients, tf.trainable_variables()))"
   ]
  },
  {
   "cell_type": "markdown",
   "id": "cec3f1fd-fd41-44d0-afa6-eb65a024885d",
   "metadata": {},
   "source": [
    "***Training the LSTM model***"
   ]
  },
  {
   "cell_type": "code",
   "execution_count": 39,
   "id": "0649e5cf-442c-46ff-afcb-cb46bc8f422f",
   "metadata": {
    "tags": []
   },
   "outputs": [],
   "source": [
    "session = tf.Session()\n",
    "session.run(tf.global_variables_initializer())"
   ]
  },
  {
   "cell_type": "code",
   "execution_count": 40,
   "id": "895d9178-c6ab-41a9-a414-0bc8d7c2e86c",
   "metadata": {
    "tags": []
   },
   "outputs": [],
   "source": [
    "epochs = 100"
   ]
  },
  {
   "cell_type": "code",
   "execution_count": 41,
   "id": "9925e690-96bd-468e-9205-8e38329afca1",
   "metadata": {
    "tags": []
   },
   "outputs": [
    {
     "name": "stdout",
     "output_type": "stream",
     "text": [
      "Epoch 0, Loss: 0.1983027309179306\n",
      "Epoch 10, Loss: 0.048380881547927856\n",
      "Epoch 20, Loss: 0.028108010068535805\n",
      "Epoch 30, Loss: 0.021589545533061028\n",
      "Epoch 40, Loss: 0.008969377726316452\n",
      "Epoch 50, Loss: 0.011092914268374443\n",
      "Epoch 60, Loss: 0.011774963699281216\n",
      "Epoch 70, Loss: 0.008624892681837082\n",
      "Epoch 80, Loss: 0.008083450607955456\n",
      "Epoch 90, Loss: 0.007165234535932541\n"
     ]
    }
   ],
   "source": [
    "for i in range(epochs):\n",
    "    train_predictions = []\n",
    "    index = 0\n",
    "    epoch_loss = []\n",
    "    \n",
    "    #Sample some batche of data and train the network\n",
    "    while(index + batch_size) <= len(X_train):\n",
    "        \n",
    "        #sample batch of data\n",
    "        X_batch = X_train[index:index+batch_size]\n",
    "        y_batch = y_train[index:index+batch_size]\n",
    "        \n",
    "        #predict the prices and compute loss\n",
    "        predicted, loss_val, _ = session.run([y_hat, loss, optimizer], feed_dict={input:X_batch, target:y_batch})\n",
    "        \n",
    "        #store the loss\n",
    "        epoch_loss.append(loss_val)\n",
    "        \n",
    "        #store the predictions\n",
    "        train_predictions.append(predicted)\n",
    "        index += batch_size\n",
    "        \n",
    "        \n",
    "    #print the loss on every 10 iterations\n",
    "    if (i % 10)== 0:\n",
    "        print(f'Epoch {i}, Loss: {np.mean(epoch_loss)}')"
   ]
  },
  {
   "cell_type": "markdown",
   "id": "94365f18-1f12-478e-95e7-c88df6e6d0a4",
   "metadata": {},
   "source": [
    "***Making predictions using the LSTM model***"
   ]
  },
  {
   "cell_type": "code",
   "execution_count": 42,
   "id": "24f542f6-5eca-4a23-9834-6c200396543b",
   "metadata": {
    "tags": []
   },
   "outputs": [],
   "source": [
    "predicted_output = []\n",
    "i = 0\n",
    "while i+batch_size <= len(X_test): \n",
    "  \n",
    "    output = session.run([y_hat],feed_dict={input:X_test[i:i+batch_size]})\n",
    "    i += batch_size\n",
    "    predicted_output.append(output)"
   ]
  },
  {
   "cell_type": "code",
   "execution_count": 43,
   "id": "1c3c4ca3-13dd-4200-8b18-175a888e8a77",
   "metadata": {
    "tags": []
   },
   "outputs": [
    {
     "data": {
      "text/plain": [
       "[[array([[-0.60435253]], dtype=float32),\n",
       "  array([[-0.6017415]], dtype=float32),\n",
       "  array([[-0.6009271]], dtype=float32),\n",
       "  array([[-0.59931946]], dtype=float32),\n",
       "  array([[-0.59928614]], dtype=float32),\n",
       "  array([[-0.600866]], dtype=float32),\n",
       "  array([[-0.59698176]], dtype=float32)]]"
      ]
     },
     "execution_count": 43,
     "metadata": {},
     "output_type": "execute_result"
    }
   ],
   "source": [
    "predicted_output[0]"
   ]
  },
  {
   "cell_type": "code",
   "execution_count": 44,
   "id": "a8dd8fe0-7416-4a96-99bb-82aeeb9a229d",
   "metadata": {
    "tags": []
   },
   "outputs": [],
   "source": [
    "predicted_values_test = []\n",
    "for i in range(len(predicted_output)):\n",
    "  for j in range(len(predicted_output[i][0])):\n",
    "    predicted_values_test.append(predicted_output[i][0][j])"
   ]
  },
  {
   "cell_type": "code",
   "execution_count": 45,
   "id": "3796bcbf-79c0-419b-9f49-8c4988818f4a",
   "metadata": {
    "tags": []
   },
   "outputs": [
    {
     "data": {
      "text/plain": [
       "array([[-0.60435253]], dtype=float32)"
      ]
     },
     "execution_count": 45,
     "metadata": {},
     "output_type": "execute_result"
    }
   ],
   "source": [
    "predicted_values_test[0]"
   ]
  },
  {
   "cell_type": "code",
   "execution_count": 46,
   "id": "d2582319-ddf3-46f7-835c-f8ed8699f2da",
   "metadata": {
    "tags": []
   },
   "outputs": [],
   "source": [
    "predictions = []\n",
    "for i in range(1280):\n",
    "      if i >= 1000:\n",
    "        predictions.append(predicted_values_test[i-1019])\n",
    "      else:\n",
    "        predictions.append(None)"
   ]
  },
  {
   "cell_type": "code",
   "execution_count": 47,
   "id": "19df25f8-eb6e-4e3a-b380-e217064ad651",
   "metadata": {
    "tags": []
   },
   "outputs": [
    {
     "data": {
      "image/png": "[encoded data removed]",
      "text/plain": [
       "<Figure size 1600x700 with 1 Axes>"
      ]
     },
     "metadata": {},
     "output_type": "display_data"
    }
   ],
   "source": [
    "plt.figure(figsize=(16, 7))\n",
    "plt.plot(data, label='Actual')\n",
    "plt.plot(predictions, label='Predicted')\n",
    "plt.legend()\n",
    "plt.xlabel('Days')\n",
    "plt.ylabel('Price')\n",
    "plt.grid()\n",
    "plt.show()"
   ]
  },
  {
   "cell_type": "markdown",
   "id": "b28edc80-2b27-42d5-b8c2-8013e83c7211",
   "metadata": {},
   "source": [
    "We can see that the actual value is shown in red color and the predicted value is shown in blue color. As we are making predictions for the time step greater than 1000, we observe that, red and blue lines interest each other, which implies that our model has correctly predicted the actual values."
   ]
  }
 ],
 "metadata": {
  "kernelspec": {
   "display_name": "Python (TensorFlow 1.13.1)",
   "language": "python",
   "name": "tf1_env"
  },
  "language_info": {
   "codemirror_mode": {
    "name": "ipython",
    "version": 3
   },
   "file_extension": ".py",
   "mimetype": "text/x-python",
   "name": "python",
   "nbconvert_exporter": "python",
   "pygments_lexer": "ipython3",
   "version": "3.7.16"
  }
 },
 "nbformat": 4,
 "nbformat_minor": 5
}
